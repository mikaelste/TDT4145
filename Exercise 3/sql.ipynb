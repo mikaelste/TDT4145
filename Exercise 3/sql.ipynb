{
 "cells": [
  {
   "cell_type": "markdown",
   "metadata": {},
   "source": [
    "# Exercise 3\n",
    "### Group 14"
   ]
  },
  {
   "cell_type": "code",
   "execution_count": 52,
   "metadata": {},
   "outputs": [
    {
     "name": "stdout",
     "output_type": "stream",
     "text": [
      "[('artist',), ('song',), ('album',), ('featuredOn',), ('songOnAlbum',)]\n"
     ]
    }
   ],
   "source": [
    "import sqlite3\n",
    "\n",
    "dbfile = 'musikk.db'\n",
    "con = sqlite3.connect(dbfile)\n",
    "\n",
    "cur = con.cursor()\n",
    "\n",
    "table_list = [a for a in cur.execute(\"SELECT name FROM sqlite_master WHERE type = 'table'\")]\n",
    "\n",
    "print(table_list)"
   ]
  },
  {
   "cell_type": "code",
   "execution_count": null,
   "metadata": {},
   "outputs": [],
   "source": []
  },
  {
   "cell_type": "markdown",
   "metadata": {},
   "source": [
    "a) Write a query which returns the songID, title, duration, year and artistID for all songs \n",
    "in the database."
   ]
  },
  {
   "cell_type": "code",
   "execution_count": 67,
   "metadata": {},
   "outputs": [
    {
     "data": {
      "text/plain": [
       "[('table',\n",
       "  'featuredOn',\n",
       "  'featuredOn',\n",
       "  5,\n",
       "  'CREATE TABLE featuredOn(\\nartistID INTEGER NOT NULL,\\nsongID INTEGER NOT NULL,\\nPRIMARY KEY(artistID, songID),\\nFOREIGN KEY(artistID) REFERENCES artist(artistID) ON DELETE CASCADE,\\nFOREIGN KEY(songID) REFERENCES song(songID) ON DELETE CASCADE)')]"
      ]
     },
     "execution_count": 67,
     "metadata": {},
     "output_type": "execute_result"
    }
   ],
   "source": [
    "table_list = [a for a in cur.execute(\"SELECT * FROM sqlite_master WHERE name = 'featuredOn'\")]\n",
    "table_list\n"
   ]
  },
  {
   "cell_type": "code",
   "execution_count": 54,
   "metadata": {},
   "outputs": [
    {
     "data": {
      "text/plain": [
       "[(1, 'Saved', 178, 2015, 1),\n",
       " (2, 'Oops!... I Did It Again', 221, 2000, 2),\n",
       " (3, \"Don't Start Now\", 183, 2019, 3),\n",
       " (4, 'Strangers', 233, 2017, 4),\n",
       " (5, 'I Went Too Far', 294, 2016, 5),\n",
       " (6, 'Blasé', 286, 2015, 1),\n",
       " (7, 'Hot Girl Summer', 199, 2019, 9),\n",
       " (8, 'drivers license', 242, 2021, 13),\n",
       " (9, 'Black Beatles', 291, 2016, 8),\n",
       " (10, 'Nice for What', 204, 2018, 12),\n",
       " (11, 'Work', 219, 2016, 15),\n",
       " (12, \"I'm the One\", 288, 2017, 16),\n",
       " (13, 'WAP', 187, 2020, 11),\n",
       " (14, 'Watermelon Sugar', 173, 2020, 21),\n",
       " (15, 'positions', 172, 2020, 22),\n",
       " (16, '7 rings', 178, 2019, 22),\n",
       " (17, 'thank u, next', 217, 2018, 22),\n",
       " (18, \"Don't Judge Me\", 242, 2017, 1),\n",
       " (19, 'Love U Better', 183, 2017, 1),\n",
       " (20, 'Savage Remix', 242, 2020, 9),\n",
       " (21, 'Cardigan', 232, 2020, 26),\n",
       " (22, 'Butter', 265, 2021, 27),\n",
       " (23, 'good 4 u', 178, 2021, 13),\n",
       " (24, 'Love Me', 255, 2013, 20)]"
      ]
     },
     "execution_count": 54,
     "metadata": {},
     "output_type": "execute_result"
    }
   ],
   "source": [
    "a = [a for a in cur.execute(\"SELECT songID, name, duration, year, artistID FROM song\")]\n",
    "a"
   ]
  },
  {
   "cell_type": "markdown",
   "metadata": {},
   "source": [
    "b) Write a query which returns the name and year of all albums released before 2017. "
   ]
  },
  {
   "cell_type": "code",
   "execution_count": 55,
   "metadata": {},
   "outputs": [
    {
     "data": {
      "text/plain": [
       "[('Future Nostalgia', 2020),\n",
       " ('Sucker Punch', 2019),\n",
       " ('Sour', 2021),\n",
       " ('Scorpion', 2018),\n",
       " ('Fine Line', 2019),\n",
       " ('Positions', 2020),\n",
       " ('thank u, next', 2019),\n",
       " ('Good News', 2020),\n",
       " ('folklore', 2020)]"
      ]
     },
     "execution_count": 55,
     "metadata": {},
     "output_type": "execute_result"
    }
   ],
   "source": [
    "b = [a for a in cur.execute(\"SELECT name, year FROM album WHERE year > 2017\")]\n",
    "b\n"
   ]
  },
  {
   "cell_type": "markdown",
   "metadata": {},
   "source": [
    "c) Write a query which returns the name and year of all songs released between 2018 \n",
    "and 2020 (inclusive), ordered by year."
   ]
  },
  {
   "cell_type": "code",
   "execution_count": 56,
   "metadata": {},
   "outputs": [
    {
     "data": {
      "text/plain": [
       "[('Future Nostalgia', 2020),\n",
       " ('Sucker Punch', 2019),\n",
       " ('Scorpion', 2018),\n",
       " ('Fine Line', 2019),\n",
       " ('Positions', 2020),\n",
       " ('thank u, next', 2019),\n",
       " ('Good News', 2020),\n",
       " ('folklore', 2020)]"
      ]
     },
     "execution_count": 56,
     "metadata": {},
     "output_type": "execute_result"
    }
   ],
   "source": [
    "c = [a for a in cur.execute(\"SELECT name, year FROM album WHERE (year >= 2018) AND (year <= 2020)\")]\n",
    "c\n"
   ]
  },
  {
   "cell_type": "markdown",
   "metadata": {},
   "source": [
    "d) Write a query which returns the artist name and song name for all artists that have \n",
    "featured on a song (i.e. they are not the main artist), ordered by the artist name and \n",
    "song name."
   ]
  },
  {
   "cell_type": "code",
   "execution_count": 57,
   "metadata": {},
   "outputs": [
    {
     "data": {
      "text/plain": [
       "[('Beyoncé', 'Savage Remix'),\n",
       " ('Chance the Rapper', \"I'm the One\"),\n",
       " ('Drake', 'Work'),\n",
       " ('Drake', 'Love Me'),\n",
       " ('E-40', 'Saved'),\n",
       " ('Future', 'Blasé'),\n",
       " ('Future', \"Don't Judge Me\"),\n",
       " ('Future', 'Love Me'),\n",
       " ('Gucci Mane', 'Black Beatles'),\n",
       " ('Justin Bieber', \"I'm the One\"),\n",
       " ('Lil Wayne', \"I'm the One\"),\n",
       " ('Lil Wayne', 'Love U Better'),\n",
       " ('Megan Thee Stallion', 'WAP'),\n",
       " ('Nicki Minaj', 'Hot Girl Summer'),\n",
       " ('Quavo', \"I'm the One\"),\n",
       " ('Rae Sremmurd', 'Blasé'),\n",
       " ('Swae Lee', \"Don't Judge Me\"),\n",
       " ('The-Dream', 'Love U Better'),\n",
       " ('Ty Dolla Sign', 'Hot Girl Summer')]"
      ]
     },
     "execution_count": 57,
     "metadata": {},
     "output_type": "execute_result"
    }
   ],
   "source": [
    "d= [a for a in cur.execute(\"\"\"\n",
    "                           SELECT artist.name AS artistname, song.name as songname \n",
    "                           From artist\n",
    "                           JOIN FeaturedOn ON artist.artistID = featuredOn.artistID\n",
    "                           JOIN song ON featuredOn.songID = song.songID\n",
    "\n",
    "                           ORDER BY artist.name ASC\n",
    "\"\"\")]\n",
    "d"
   ]
  },
  {
   "cell_type": "markdown",
   "metadata": {},
   "source": [
    "e) Write a query which returns the song name, album name and song year for all songs \n",
    "by Ariana Grande, ordered by year, album name and song name."
   ]
  },
  {
   "cell_type": "code",
   "execution_count": 66,
   "metadata": {},
   "outputs": [
    {
     "data": {
      "text/plain": [
       "[('thank u, next', 'Positions', 2018),\n",
       " ('thank u, next', 'thank u, next', 2018),\n",
       " ('7 rings', 'Positions', 2019),\n",
       " ('7 rings', 'thank u, next', 2019),\n",
       " ('positions', 'Positions', 2020),\n",
       " ('positions', 'thank u, next', 2020)]"
      ]
     },
     "execution_count": 66,
     "metadata": {},
     "output_type": "execute_result"
    }
   ],
   "source": [
    "e = [a for a in cur.execute(\"\"\"\n",
    "                            SELECT song.name as sn, album.name as an, song.year as sy\n",
    "                            FROM song\n",
    "                            INNER JOIN album ON album.artistID = song.artistID\n",
    "                            INNER JOIN artist ON song.artistID == artist.artistID\n",
    "                            INNER JOIN songOnAlbum ON songOnAlbum.songID == song.songID\n",
    "                            WHERE artist.name = 'Ariana Grande'\n",
    "                            ORDER BY sy, an, sn\n",
    "\"\"\")]\n",
    "e\n"
   ]
  },
  {
   "cell_type": "markdown",
   "metadata": {},
   "source": [
    "f) Write a query which, for all songs where Ty Dolla Sign is either the main artist or is \n",
    "featured, returns the name of the main artist and the song name, ordered by the artist \n",
    "name and song name"
   ]
  },
  {
   "cell_type": "code",
   "execution_count": 93,
   "metadata": {},
   "outputs": [
    {
     "data": {
      "text/plain": [
       "[('Megan Thee Stallion', 'Hot Girl Summer'),\n",
       " ('Ty Dolla Sign', 'Blasé'),\n",
       " ('Ty Dolla Sign', 'Blasé'),\n",
       " ('Ty Dolla Sign', \"Don't Judge Me\"),\n",
       " ('Ty Dolla Sign', \"Don't Judge Me\"),\n",
       " ('Ty Dolla Sign', 'Love U Better'),\n",
       " ('Ty Dolla Sign', 'Love U Better'),\n",
       " ('Ty Dolla Sign', 'Saved')]"
      ]
     },
     "execution_count": 93,
     "metadata": {},
     "output_type": "execute_result"
    }
   ],
   "source": [
    "f = [a for a in cur.execute(\"\"\"\n",
    "                            SELECT sa.name as an, song.name as sn\n",
    "                            FROM song\n",
    "                            JOIN artist sa ON song.artistID = sa.artistID\n",
    "                            LEFT JOIN featuredOn ON song.songID = featuredOn.songID\n",
    "                            LEFT JOIN artist fa ON fa.artistID = featuredOn.artistID\n",
    "                            WHERE (sa.name = \"Ty Dolla Sign\") OR (fa.name = \"Ty Dolla Sign\")\n",
    "                            ORDER BY an, sn\n",
    "\"\"\")]\n",
    "f"
   ]
  },
  {
   "cell_type": "markdown",
   "metadata": {},
   "source": [
    "g) Write a query which returns the artist name and song name for all song names that \n",
    "include the sequence of characters \"the\"."
   ]
  },
  {
   "cell_type": "code",
   "execution_count": 99,
   "metadata": {},
   "outputs": [
    {
     "data": {
      "text/plain": [
       "[('DJ Khaled', \"I'm the One\")]"
      ]
     },
     "execution_count": 99,
     "metadata": {},
     "output_type": "execute_result"
    }
   ],
   "source": [
    "g = [a for a in cur.execute(\"\"\"\n",
    "                            SELECT artist.name as an, song.name as sn\n",
    "                            FROM song\n",
    "                            JOIN artist ON song.artistID = artist.artistID\n",
    "                            WHERE song.name LIKE '%the%'\n",
    "\"\"\")]\n",
    "g"
   ]
  },
  {
   "cell_type": "markdown",
   "metadata": {},
   "source": [
    "h) Write a query which returns the artist name and number of features for the artist in \n",
    "the database with the highest number of features (songs with said artist as the main \n",
    "artist do not count). \n",
    "\n",
    "(HINT: a HAVING clause might be beneficial to use here.) "
   ]
  },
  {
   "cell_type": "code",
   "execution_count": 109,
   "metadata": {},
   "outputs": [
    {
     "data": {
      "text/plain": [
       "[('Future', 3)]"
      ]
     },
     "execution_count": 109,
     "metadata": {},
     "output_type": "execute_result"
    }
   ],
   "source": [
    "g = [a for a in cur.execute(\"\"\"\n",
    "                            SELECT artist.name AS an, COUNT(*) AS num_features\n",
    "                            FROM featuredOn\n",
    "                            JOIN artist ON featuredOn.artistID = artist.artistID\n",
    "                            GROUP BY artist.name\n",
    "                            ORDER BY num_features DESC\n",
    "                            LIMIT 1\n",
    "\"\"\")]\n",
    "g\n"
   ]
  }
 ],
 "metadata": {
  "kernelspec": {
   "display_name": "IT3105",
   "language": "python",
   "name": "python3"
  },
  "language_info": {
   "codemirror_mode": {
    "name": "ipython",
    "version": 3
   },
   "file_extension": ".py",
   "mimetype": "text/x-python",
   "name": "python",
   "nbconvert_exporter": "python",
   "pygments_lexer": "ipython3",
   "version": "3.9.18"
  }
 },
 "nbformat": 4,
 "nbformat_minor": 2
}
