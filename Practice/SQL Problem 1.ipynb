{
 "cells": [
  {
   "cell_type": "code",
   "execution_count": 20,
   "metadata": {},
   "outputs": [],
   "source": [
    "import sqlite3 as sql"
   ]
  },
  {
   "cell_type": "code",
   "execution_count": 21,
   "metadata": {},
   "outputs": [],
   "source": [
    "def execute_sql_script(file_path, db_path):\n",
    "    # Connect to the SQLite database\n",
    "    connection = sql.connect(db_path)\n",
    "\n",
    "    # Read the SQL script\n",
    "    with open(file_path, 'r', encoding='ISO-8859-1') as sql_file:\n",
    "        sql_script = sql_file.read()\n",
    "\n",
    "    # Execute the script\n",
    "    cursor = connection.cursor()\n",
    "    cursor.executescript(sql_script)\n",
    "    connection.commit()\n",
    "\n",
    "    # Close the connection\n",
    "    connection.close()\n",
    "\n",
    "# Usage\n",
    "sql_file_path = 'pizzaDB.sql'\n",
    "db_path = 'pizza.db'\n",
    "execute_sql_script(sql_file_path, db_path)"
   ]
  },
  {
   "cell_type": "code",
   "execution_count": 22,
   "metadata": {},
   "outputs": [],
   "source": [
    "con = sql.connect('pizza.db')\n",
    "cur = con.cursor()"
   ]
  },
  {
   "cell_type": "code",
   "execution_count": 23,
   "metadata": {},
   "outputs": [
    {
     "data": {
      "text/plain": [
       "[('poststeder',), ('kunde',), ('pizzatyper',), ('ordre',), ('ordrelinje',)]"
      ]
     },
     "execution_count": 23,
     "metadata": {},
     "output_type": "execute_result"
    }
   ],
   "source": [
    "table_list = [a for a in cur.execute(\"SELECT name FROM sqlite_master WHERE type = 'table'\")]\n",
    "table_list"
   ]
  },
  {
   "cell_type": "markdown",
   "metadata": {},
   "source": [
    "# Spørringer"
   ]
  },
  {
   "cell_type": "markdown",
   "metadata": {},
   "source": [
    "Spørring\t1\n",
    "\n",
    "Finn\tkunder\tpå\tpostnummer\t7000.\tTa\tmed\tnavn\tog\tadresse."
   ]
  },
  {
   "cell_type": "code",
   "execution_count": 24,
   "metadata": {},
   "outputs": [
    {
     "data": {
      "text/plain": [
       "[('Ola', 'Kirkegata 1'), ('Kari', 'Elgesetergate 12'), ('Per', 'Munkegata 10')]"
      ]
     },
     "execution_count": 24,
     "metadata": {},
     "output_type": "execute_result"
    }
   ],
   "source": [
    "a = [a for a in cur.execute(\"\"\"\n",
    "                            SELECT navn, adresse\n",
    "                            FROM kunde\n",
    "                            WHERE kunde.postnr = 7000\n",
    "                            \"\"\")]\n",
    "a"
   ]
  },
  {
   "cell_type": "markdown",
   "metadata": {},
   "source": [
    "Spørring\t2\n",
    "\n",
    "Hvor\tmange\tkunder\ter\tdet\ti\tdatabasen?\tI\tresultatet\tskal\tkolonnen\tha\tnavnet\t\n",
    "”Antall\tkunder”"
   ]
  },
  {
   "cell_type": "code",
   "execution_count": 25,
   "metadata": {},
   "outputs": [
    {
     "data": {
      "text/plain": [
       "[(4,)]"
      ]
     },
     "execution_count": 25,
     "metadata": {},
     "output_type": "execute_result"
    }
   ],
   "source": [
    "b = [b for b in cur.execute(\"\"\"\n",
    "                            SELECT COUNT(*) AS AntallKunder from kunde\n",
    "                            \"\"\")]\n",
    "b"
   ]
  },
  {
   "cell_type": "markdown",
   "metadata": {},
   "source": [
    "Spørring\t3\n",
    "\n",
    "Finn\talle\tpoststeder.\t\tHver\tpoststed\tskal\tvære\tmed\tbare\ten\tgang,\tog\tresultatet\t\n",
    "skal\tsorteres\talfabetisk."
   ]
  },
  {
   "cell_type": "code",
   "execution_count": 26,
   "metadata": {},
   "outputs": [
    {
     "data": {
      "text/plain": [
       "[('Bodï¿½',), ('Kirkenes',), ('Tromsï¿½',), ('Trondheim',)]"
      ]
     },
     "execution_count": 26,
     "metadata": {},
     "output_type": "execute_result"
    }
   ],
   "source": [
    "c = cur.execute(\"\"\"\n",
    "                SELECT DISTINCT poststed\n",
    "                FROM poststeder\n",
    "                ORDER BY poststed ASC\n",
    "                \"\"\").fetchall()\n",
    "c"
   ]
  },
  {
   "cell_type": "markdown",
   "metadata": {},
   "source": [
    "Spørring\t4\n",
    "\n",
    "Skriv\tut\tkid,\tnavn,\tadresse,\tpostnummer\tog\tpoststed\tfor\talle\tkunder"
   ]
  },
  {
   "cell_type": "code",
   "execution_count": 27,
   "metadata": {},
   "outputs": [
    {
     "data": {
      "text/plain": [
       "[(1, 'Ola', 'Kirkegata 1', 'Trondheim'),\n",
       " (2, 'Kari', 'Elgesetergate 12', 'Trondheim'),\n",
       " (3, 'Per', 'Munkegata 10', 'Trondheim'),\n",
       " (4, 'Ola', 'Kongens gate 12', 'Bodï¿½')]"
      ]
     },
     "execution_count": 27,
     "metadata": {},
     "output_type": "execute_result"
    }
   ],
   "source": [
    "d = cur.execute(\"\"\"\n",
    "                SELECT DISTINCT kid, navn, adresse, poststed\n",
    "                FROM kunde\n",
    "                INNER JOIN poststeder ON kunde.postnr = poststeder.postnr\n",
    "                \"\"\").fetchall()\n",
    "d"
   ]
  },
  {
   "cell_type": "markdown",
   "metadata": {},
   "source": [
    "Spørring\t5\n",
    "\n",
    "Hvor\tmange\t”Thai\tChicken”\ter\tsolgt\tog\tfor\thvor\tmange\tkroner\ttil\tsammen?"
   ]
  },
  {
   "cell_type": "code",
   "execution_count": 28,
   "metadata": {},
   "outputs": [
    {
     "data": {
      "text/plain": [
       "[(3, 762)]"
      ]
     },
     "execution_count": 28,
     "metadata": {},
     "output_type": "execute_result"
    }
   ],
   "source": [
    "e = cur.execute(\"\"\"\n",
    "                SELECT\n",
    "                    SUM(ordrelinje.antall) as antall,\n",
    "                    SUM(ordrelinje.delsum) as total\n",
    "                FROM \n",
    "                    ordrelinje\n",
    "                INNER JOIN\n",
    "                    pizzatyper on ordrelinje.pizza = pizzatyper.pid\n",
    "                WHERE\n",
    "                    pizzatyper.navn = \"Thai Chicken\"\n",
    "                \"\"\").fetchall()\n",
    "e"
   ]
  },
  {
   "cell_type": "markdown",
   "metadata": {},
   "source": [
    "Spørring\t6\n",
    "\n",
    "Finn\talle\tpizzatyper\tsom\tnoen\thar\tkjøpt.\tUnngår\tå\tgjenta\tpizzanavn\ti\tresultatet\t\n",
    "og\tsorter\tresultatet\talfabetisk."
   ]
  },
  {
   "cell_type": "code",
   "execution_count": 29,
   "metadata": {},
   "outputs": [
    {
     "data": {
      "text/plain": [
       "[('Cheese & Tomato',), ('Pepper Steak',), ('Thai Chicken',), ('The Tropical',)]"
      ]
     },
     "execution_count": 29,
     "metadata": {},
     "output_type": "execute_result"
    }
   ],
   "source": [
    "f = cur.execute(\"\"\"\n",
    "                SELECT DISTINCT pt.navn\n",
    "                FROM\n",
    "                    ordrelinje AS ol\n",
    "                INNER JOIN\n",
    "                    pizzatyper AS pt ON ol.pizza = pt.pid\n",
    "                ORDER BY pt.navn\n",
    "                \"\"\").fetchall()\n",
    "f"
   ]
  },
  {
   "cell_type": "markdown",
   "metadata": {},
   "source": [
    "Spørring\t7\n",
    "\n",
    "Finn\tkid,\tnavn\tog\tadresse\tfor\talle\tpersoner\tsom\tbor\tpå\tadresser\tsom\tinneholder\t\n",
    "”gata”."
   ]
  },
  {
   "cell_type": "code",
   "execution_count": 30,
   "metadata": {},
   "outputs": [
    {
     "data": {
      "text/plain": [
       "[(1, 'Ola', 'Kirkegata 1'), (3, 'Per', 'Munkegata 10')]"
      ]
     },
     "execution_count": 30,
     "metadata": {},
     "output_type": "execute_result"
    }
   ],
   "source": [
    "g = cur.execute(\"\"\"\n",
    "                SELECT kid, navn, adresse\n",
    "                FROM\n",
    "                    kunde\n",
    "                WHERE \n",
    "                    adresse LIKE '%gata%'\n",
    "                \"\"\").fetchall()\n",
    "g"
   ]
  },
  {
   "cell_type": "markdown",
   "metadata": {},
   "source": [
    "Spørring 8\n",
    "\n",
    "Finn\talle\tpizzatyper\tsom\tkunden\t”Kari”\tikke\thar\tkjøpt\tennå."
   ]
  },
  {
   "cell_type": "code",
   "execution_count": 31,
   "metadata": {},
   "outputs": [
    {
     "data": {
      "text/plain": [
       "[('Heavy Heaven',)]"
      ]
     },
     "execution_count": 31,
     "metadata": {},
     "output_type": "execute_result"
    }
   ],
   "source": [
    "h = cur.execute(\"\"\"\n",
    "                SELECT navn\n",
    "                FROM\n",
    "                    pizzatyper AS pt\n",
    "                WHERE pt.pid NOT IN (\n",
    "                    SELECT ol.pizza\n",
    "                    from kunde AS k\n",
    "                    INNER JOIN ordre AS o ON o.kunde = k.kid\n",
    "                    INNER JOIN ordrelinje AS ol ON o.ordrenr = ol.ordrenr\n",
    "                    WHERE\n",
    "                        k.navn = \"Kari\"\n",
    "                )\n",
    "                \"\"\").fetchall()\n",
    "h\n",
    "                "
   ]
  },
  {
   "cell_type": "code",
   "execution_count": 32,
   "metadata": {},
   "outputs": [
    {
     "data": {
      "text/plain": [
       "[('Cheese & Tomato',),\n",
       " ('Heavy Heaven',),\n",
       " ('Kari',),\n",
       " ('Ola',),\n",
       " ('Pepper Steak',),\n",
       " ('Per',),\n",
       " ('Thai Chicken',),\n",
       " ('The Tropical',)]"
      ]
     },
     "execution_count": 32,
     "metadata": {},
     "output_type": "execute_result"
    }
   ],
   "source": [
    "i = cur.execute(\"\"\"\n",
    "                SELECT DISTINCT navn\n",
    "                FROM kunde as k\n",
    "                UNION \n",
    "                SELECT navn\n",
    "                FROM pizzatyper AS pt\n",
    "                \"\"\").fetchall()\n",
    "i"
   ]
  },
  {
   "cell_type": "markdown",
   "metadata": {},
   "source": [
    "Spørring 10\n",
    "\n",
    "Ta\tut\tpostnr,\tpoststed\tog\tantall\tpersoner\tsom\tbor\tpå\tet\tpostnummer.\tI\tresultatet\t\n",
    "skal\talle\tpostnumre\tvære\tmed,\tog\tdet\tskal\tsorteres\tetter\tsynkende\tantall\tkunder."
   ]
  },
  {
   "cell_type": "code",
   "execution_count": 33,
   "metadata": {},
   "outputs": [
    {
     "data": {
      "text/plain": [
       "[(3, '7000', 'Trondheim'),\n",
       " (1, '8000', 'Bodï¿½'),\n",
       " (0, '9090', 'Kirkenes'),\n",
       " (0, '9000', 'Tromsï¿½'),\n",
       " (0, '7046', 'Trondheim')]"
      ]
     },
     "execution_count": 33,
     "metadata": {},
     "output_type": "execute_result"
    }
   ],
   "source": [
    "j = cur.execute(\"\"\"\n",
    "                SELECT COUNT(k.kid) AS Antall, ps.postnr, ps.poststed\n",
    "                FROM kunde as k\n",
    "                RIGHT OUTER JOIN poststeder as ps ON k.postnr = ps.postnr\n",
    "                GROUP BY ps.postnr\n",
    "                ORDER BY Antall DESC\n",
    "                \"\"\").fetchall()\n",
    "j"
   ]
  },
  {
   "cell_type": "markdown",
   "metadata": {},
   "source": [
    "Spørring 11\n",
    "\n",
    "Finn\talle\tpersoner\t(kid\tog\tnavn)\tsom\tikke har\tkjøpt\t”Thai\tChicken”"
   ]
  },
  {
   "cell_type": "code",
   "execution_count": 34,
   "metadata": {},
   "outputs": [
    {
     "data": {
      "text/plain": [
       "[(1, 'Ola'), (4, 'Ola')]"
      ]
     },
     "execution_count": 34,
     "metadata": {},
     "output_type": "execute_result"
    }
   ],
   "source": [
    "k = cur.execute(\"\"\"\n",
    "                SELECT k.kid, k.navn \n",
    "                FROM kunde as k\n",
    "                WHERE k.kid NOT IN (\n",
    "                    SELECT o.kunde\n",
    "                    FROM ordre as o\n",
    "                    WHERE o.ordrenr IN (\n",
    "                        SELECT ol.ordrenr\n",
    "                        FROM ordrelinje AS ol\n",
    "                            INNER JOIN pizzatyper as pt ON (ol.pizza = pt.pid)\n",
    "                        WHERE pt.navn = 'Thai Chicken'\n",
    "                    )\n",
    "                )\n",
    "                \"\"\").fetchall()\n",
    "k"
   ]
  },
  {
   "cell_type": "markdown",
   "metadata": {},
   "source": [
    "## Innsetting, oppdatering og sletting"
   ]
  },
  {
   "cell_type": "markdown",
   "metadata": {},
   "source": [
    "Oppgave\t1\n",
    "\n",
    "Kunde\tnummer\t2,\tKari\t,\tbestiller\ti\tdag\t(30.\tjanuar\t2014)\t1\t”Pepper\tSteak”\tog\t3\t\n",
    "”Thai\tchicken”.\tLegg\tinn\tdenne\tbestillingen."
   ]
  },
  {
   "cell_type": "code",
   "execution_count": 35,
   "metadata": {},
   "outputs": [],
   "source": [
    "# First INSERT\n",
    "cur.execute(\"\"\"\n",
    "    INSERT INTO ordre\n",
    "    VALUES (6, '2014-01-01', null, 990, 2)\n",
    "\"\"\")\n",
    "\n",
    "# Second INSERT\n",
    "cur.execute(\"\"\"\n",
    "    INSERT INTO ordrelinje \n",
    "    VALUES (6, 1, 3, 1, 228)\n",
    "\"\"\")\n",
    "\n",
    "# Third INSERT\n",
    "cur.execute(\"\"\"\n",
    "    INSERT INTO ordrelinje \n",
    "    VALUES (6, 2, 4, 3, 762)\n",
    "\"\"\")\n",
    "\n",
    "# Commit the transaction\n",
    "con.commit()\n"
   ]
  },
  {
   "cell_type": "markdown",
   "metadata": {},
   "source": [
    "Oppgave 2\n",
    "\n",
    "Øk\tprisen\tpå\talle\tpizzatyper\tmed\t10\t%."
   ]
  },
  {
   "cell_type": "code",
   "execution_count": 36,
   "metadata": {},
   "outputs": [],
   "source": [
    "cur.execute(\"\"\"\n",
    "            UPDATE pizzatyper\n",
    "            SET pris = 1.1*pris\n",
    "            \"\"\")\n",
    "con.commit()"
   ]
  },
  {
   "cell_type": "markdown",
   "metadata": {},
   "source": [
    "Oppgave 3\n",
    "\n",
    "Prøv\tå\tslette\tpizzatypen\t”Thai\tChicken”.\tHva\tskjer?\tHvorfor?\tHva\tmå\tdu\tevt.\tgjøre\t\n",
    "for\tå\tfå\tslettet\tdenne\tpizzatypen?"
   ]
  },
  {
   "cell_type": "code",
   "execution_count": 37,
   "metadata": {},
   "outputs": [],
   "source": [
    "cur.execute(\"\"\"\n",
    "            DELETE FROM pizzatyper WHERE navn = 'Thai Chicken'\n",
    "            \"\"\")\n",
    "con.commit()"
   ]
  },
  {
   "cell_type": "code",
   "execution_count": null,
   "metadata": {},
   "outputs": [],
   "source": []
  }
 ],
 "metadata": {
  "kernelspec": {
   "display_name": "IT3105",
   "language": "python",
   "name": "python3"
  },
  "language_info": {
   "codemirror_mode": {
    "name": "ipython",
    "version": 3
   },
   "file_extension": ".py",
   "mimetype": "text/x-python",
   "name": "python",
   "nbconvert_exporter": "python",
   "pygments_lexer": "ipython3",
   "version": "3.9.18"
  }
 },
 "nbformat": 4,
 "nbformat_minor": 2
}
